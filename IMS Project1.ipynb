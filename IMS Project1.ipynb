{
  "nbformat": 4,
  "nbformat_minor": 0,
  "metadata": {
    "colab": {
      "name": "Untitled1.ipynb",
      "provenance": [],
      "collapsed_sections": [],
      "toc_visible": true
    },
    "kernelspec": {
      "name": "python3",
      "display_name": "Python 3"
    },
    "language_info": {
      "name": "python"
    }
  },
  "cells": [
    {
      "cell_type": "code",
      "metadata": {
        "colab": {
          "base_uri": "https://localhost:8080/",
          "height": 86
        },
        "id": "QoruTvk_2tM6",
        "outputId": "06d7c23c-798e-4d01-9fe1-d8bc9f7ca38c"
      },
      "source": [
        "f = open('record.json','r')\n",
        "r = f.read()\n",
        "f.close()\n",
        "r"
      ],
      "execution_count": 18,
      "outputs": [
        {
          "output_type": "execute_result",
          "data": {
            "application/vnd.google.colaboratory.intrinsic+json": {
              "type": "string"
            },
            "text/plain": [
              "'{\"1001\": {\"name\": \"Choco Cake\", \"qn\": 34, \"pr\": 100}, \"1002\": {\"name\": \"Milk Cake\", \"pr\": 800, \"qn\": 100}, \"1003\": {\"name\": \"Drink\", \"pr\": 85, \"qn\": 100}, \"1004\": {\"name\": \"Candy\", \"pr\": 5, \"qn\": 1000}, \"1005\": {\"name\": \"Pen\", \"pr\": 20, \"qn\": 100}, \"1006\": {\"name\": \"Phone\", \"pr\": 50000, \"qn\": 10}, \"1007\": {\"name\": \"Mic\", \"pr\": 1500, \"qn\": 0}, \"1008\": {\"name\": \"Case\", \"pr\": 599, \"qn\": 5}, \"1009\": {\"name\": \"Keyboard\", \"pr\": 1999, \"qn\": 10}}'"
            ]
          },
          "metadata": {},
          "execution_count": 18
        }
      ]
    },
    {
      "cell_type": "code",
      "metadata": {
        "id": "KfiepwWj3tYd"
      },
      "source": [
        ""
      ],
      "execution_count": null,
      "outputs": []
    },
    {
      "cell_type": "code",
      "metadata": {
        "colab": {
          "base_uri": "https://localhost:8080/",
          "height": 128
        },
        "id": "D0pInFqM3KkY",
        "outputId": "988aa86a-fcd9-42b0-b097-f3cd776597b4"
      },
      "source": [
        "\n",
        "\n",
        "import json\n",
        "\n",
        "fd = open(\"record.json\",'r')\n",
        "r = fd.read()\n",
        "fd.close()\n",
        "\n",
        "records = json.loads(r)\n",
        "\n",
        "records = {'1001': {'name': 'Choco Cake', 'pr': 100, 'qn': 34},\n",
        "\t\t '1002': {'name': 'Milk Cake', 'pr': 800, 'qn': 100},\n",
        "\t\t '1003': {'name': 'Drink', 'pr': 85, 'qn': 100},\n",
        "\t\t '1004': {'name': 'Candy', 'pr': 5, 'qn': 1000},\n",
        "\t\t '1005': {'name': 'Pen', 'pr': 20, 'qn': 100},\n",
        "\t\t '1006': {'name': 'Phone', 'pr': 50000, 'qn': 9},\n",
        "\t\t '1007': {'name': 'Mic', 'pr': 1500, 'qn': 0},\n",
        "\t\t '1008': {'name': 'Case', 'pr': 599, 'qn': 5}}\n",
        "\n",
        "\n",
        "ui_prod  = str(input(\"Enter the product_Id: \"))\n",
        "ui_quant = int(input(\"Enter the quantity: \"))\n",
        "\n",
        "\n",
        "print(\"Product: \", records[ui_prod]['name'])\n",
        "print(\"Price: \", records[ui_prod]['pr'])\n",
        "print(\"Billing Amount: \", records[ui_prod]['pr'] * ui_quant)\n",
        "\n",
        "records[ui_prod]['qn'] = records[ui_prod]['qn'] - ui_quant\n",
        "Stream\n",
        "\t\tEnter the product_Id: 1006\n",
        "\t\tEnter the quantity: 1\n",
        "\t\tProduct:  Phone\n",
        "\t\tPrice:  50000\n",
        "\t\tBilling Amount:  50000\n",
        "\n",
        "\n",
        "js = json.dumps(records)\n",
        "\n",
        "fd = open(\"record.json\",'w')\n",
        "fd.write(js)\n",
        "fd.close()\n",
        "\n",
        "\n",
        "\n",
        "{'prod' : ui_prod, 'qn' : ui_quant, 'amount': records[ui_prod]['pr'] * ui_quant}\n",
        "Execution output\n",
        "\ttext/plain\n",
        "\t\t{'amount': 400, 'prod': '1001', 'qn': 4}\n",
        "\n",
        "\n",
        "sales = {1 : {'prod' : ui_prod, 'qn' : ui_quant, 'amount': records[ui_prod]['pr'] * ui_quant},\n",
        "         2 : {'prod' : ui_prod, 'qn' : ui_quant, 'amount': records[ui_prod]['pr'] * ui_quant},\n",
        "         3 : {'prod' : ui_prod, 'qn' : ui_quant, 'amount': records[ui_prod]['pr'] * ui_quant}}\n",
        "\n",
        "\n",
        "sale = json.dumps(sales)\n",
        "\n",
        "\t\t'{\"1\": {\"prod\": \"1001\", \"qn\": 4, \"amount\": 400}, \"2\": {\"prod\": \"1001\", \"qn\": 4, \"amount\": 400}, \"3\": {\"prod\": \"1001\", \"qn\": 4, \"amount\": 400}}'\n",
        "\n",
        "\n"
      ],
      "execution_count": 19,
      "outputs": [
        {
          "output_type": "error",
          "ename": "IndentationError",
          "evalue": "ignored",
          "traceback": [
            "\u001b[0;36m  File \u001b[0;32m\"<ipython-input-19-a8364bdfc994>\"\u001b[0;36m, line \u001b[0;32m31\u001b[0m\n\u001b[0;31m    Enter the product_Id: 1006\u001b[0m\n\u001b[0m    ^\u001b[0m\n\u001b[0;31mIndentationError\u001b[0m\u001b[0;31m:\u001b[0m unexpected indent\n"
          ]
        }
      ]
    },
    {
      "cell_type": "code",
      "metadata": {
        "id": "inpsBjdW3Km4"
      },
      "source": [
        ""
      ],
      "execution_count": null,
      "outputs": []
    },
    {
      "cell_type": "code",
      "metadata": {
        "colab": {
          "base_uri": "https://localhost:8080/",
          "height": 417
        },
        "id": "zU_xJQkl3Kox",
        "outputId": "72c52638-7db3-4560-fcb1-70552136414c"
      },
      "source": [
        "\n",
        "fd = open(\"Records.txt\",\"r\")\n",
        "txt = fd.read()\n",
        "fd.close()\n",
        "\n",
        "\n",
        "products = txt.split(\"\\n\")\n",
        "\n",
        "ui_prod  = str(input(\"Enter the product_Id: \"))\n",
        "ui_quant = input(\"Enter the quantity: \")\n",
        "\n",
        "for product in products:\n",
        "    prod = product.split(\",\")\n",
        "    \n",
        "    \n",
        "    if(prod[0] == ui_prod):\n",
        "        print(\"***********************\")\n",
        "        print(\"Product ID: \", prod[0])\n",
        "        print(\"Name: \", prod[1])\n",
        "        print(\"Price: \",prod[2])\n",
        "        print(\"Quant: \",ui_quant)\n",
        "        print(\"------------------------\")\n",
        "        print(\"Billing Amout: \", ui_quant * int(prod[2]))\n",
        "        print(\"***********************\")\n",
        "    \n",
        "#Execution output\n",
        "\"\"\"Stream\n",
        "\t\tEnter the product_Id: 1002\n",
        "\t\tEnter the quantity: 3\n",
        "\t\t***********************\n",
        "\t\t('Product ID: ', '1002')\n",
        "\t\t('Name: ', 'Cake')\n",
        "\t\t('Price: ', '300')\n",
        "\t\t('Quant: ', 3)\n",
        "\t\t------------------------\n",
        "\t\t('Billing Amout: ', 900)\n",
        "\t\t***********************\"\"\"\n",
        "\n",
        "\n",
        "new_record = []\n",
        "\n",
        "for product in products:\n",
        "    prod = product.split(\",\")\n",
        "    if(ui_prod == prod[0]):\n",
        "        prod[3] = str(int(prod[3]) - ui_quant)\n",
        "        \n",
        "    new_record.append(prod[0] + \",\" + prod[1] + \",\" + prod[2] + \",\" + prod[3] + \"\\n\")\n",
        "    \n",
        "new_record[-1] = new_record[-1][:-1]\n",
        "\n",
        "\n",
        "fd = open(\"Records.txt\", 'w')\n",
        "\n",
        "for i in new_record:\n",
        "    fd.write(i)\n",
        "    \n",
        "fd.close()\n",
        "\n",
        "\n",
        "\n",
        "\n"
      ],
      "execution_count": 22,
      "outputs": [
        {
          "output_type": "stream",
          "name": "stdout",
          "text": [
            "Enter the product_Id: 1002\n",
            "Enter the quantity: 45\n",
            "***********************\n",
            "Product ID:  1002\n",
            "Name:  Cake\n",
            "Price:  300\n",
            "Quant:  45\n",
            "------------------------\n",
            "Billing Amout:  454545454545454545454545454545454545454545454545454545454545454545454545454545454545454545454545454545454545454545454545454545454545454545454545454545454545454545454545454545454545454545454545454545454545454545454545454545454545454545454545454545454545454545454545454545454545454545454545454545454545454545454545454545454545454545454545454545454545454545454545454545454545454545454545454545454545454545454545454545454545454545454545454545454545454545454545454545454545454545454545454545454545454545454545454545454545454545454545454545454545454545454545454545454545454545454545454545454545454545454545\n",
            "***********************\n"
          ]
        },
        {
          "output_type": "error",
          "ename": "TypeError",
          "evalue": "ignored",
          "traceback": [
            "\u001b[0;31m---------------------------------------------------------------------------\u001b[0m",
            "\u001b[0;31mTypeError\u001b[0m                                 Traceback (most recent call last)",
            "\u001b[0;32m<ipython-input-22-885f26b3ef5c>\u001b[0m in \u001b[0;36m<module>\u001b[0;34m()\u001b[0m\n\u001b[1;32m     43\u001b[0m     \u001b[0mprod\u001b[0m \u001b[0;34m=\u001b[0m \u001b[0mproduct\u001b[0m\u001b[0;34m.\u001b[0m\u001b[0msplit\u001b[0m\u001b[0;34m(\u001b[0m\u001b[0;34m\",\"\u001b[0m\u001b[0;34m)\u001b[0m\u001b[0;34m\u001b[0m\u001b[0;34m\u001b[0m\u001b[0m\n\u001b[1;32m     44\u001b[0m     \u001b[0;32mif\u001b[0m\u001b[0;34m(\u001b[0m\u001b[0mui_prod\u001b[0m \u001b[0;34m==\u001b[0m \u001b[0mprod\u001b[0m\u001b[0;34m[\u001b[0m\u001b[0;36m0\u001b[0m\u001b[0;34m]\u001b[0m\u001b[0;34m)\u001b[0m\u001b[0;34m:\u001b[0m\u001b[0;34m\u001b[0m\u001b[0;34m\u001b[0m\u001b[0m\n\u001b[0;32m---> 45\u001b[0;31m         \u001b[0mprod\u001b[0m\u001b[0;34m[\u001b[0m\u001b[0;36m3\u001b[0m\u001b[0;34m]\u001b[0m \u001b[0;34m=\u001b[0m \u001b[0mstr\u001b[0m\u001b[0;34m(\u001b[0m\u001b[0mint\u001b[0m\u001b[0;34m(\u001b[0m\u001b[0mprod\u001b[0m\u001b[0;34m[\u001b[0m\u001b[0;36m3\u001b[0m\u001b[0;34m]\u001b[0m\u001b[0;34m)\u001b[0m \u001b[0;34m-\u001b[0m \u001b[0mui_quant\u001b[0m\u001b[0;34m)\u001b[0m\u001b[0;34m\u001b[0m\u001b[0;34m\u001b[0m\u001b[0m\n\u001b[0m\u001b[1;32m     46\u001b[0m \u001b[0;34m\u001b[0m\u001b[0m\n\u001b[1;32m     47\u001b[0m     \u001b[0mnew_record\u001b[0m\u001b[0;34m.\u001b[0m\u001b[0mappend\u001b[0m\u001b[0;34m(\u001b[0m\u001b[0mprod\u001b[0m\u001b[0;34m[\u001b[0m\u001b[0;36m0\u001b[0m\u001b[0;34m]\u001b[0m \u001b[0;34m+\u001b[0m \u001b[0;34m\",\"\u001b[0m \u001b[0;34m+\u001b[0m \u001b[0mprod\u001b[0m\u001b[0;34m[\u001b[0m\u001b[0;36m1\u001b[0m\u001b[0;34m]\u001b[0m \u001b[0;34m+\u001b[0m \u001b[0;34m\",\"\u001b[0m \u001b[0;34m+\u001b[0m \u001b[0mprod\u001b[0m\u001b[0;34m[\u001b[0m\u001b[0;36m2\u001b[0m\u001b[0;34m]\u001b[0m \u001b[0;34m+\u001b[0m \u001b[0;34m\",\"\u001b[0m \u001b[0;34m+\u001b[0m \u001b[0mprod\u001b[0m\u001b[0;34m[\u001b[0m\u001b[0;36m3\u001b[0m\u001b[0;34m]\u001b[0m \u001b[0;34m+\u001b[0m \u001b[0;34m\"\\n\"\u001b[0m\u001b[0;34m)\u001b[0m\u001b[0;34m\u001b[0m\u001b[0;34m\u001b[0m\u001b[0m\n",
            "\u001b[0;31mTypeError\u001b[0m: unsupported operand type(s) for -: 'int' and 'str'"
          ]
        }
      ]
    },
    {
      "cell_type": "code",
      "metadata": {
        "id": "bJQxZev83KrQ"
      },
      "source": [
        ""
      ],
      "execution_count": null,
      "outputs": []
    },
    {
      "cell_type": "code",
      "metadata": {
        "id": "Vr62bdgv3Kta"
      },
      "source": [
        ""
      ],
      "execution_count": null,
      "outputs": []
    },
    {
      "cell_type": "code",
      "metadata": {
        "id": "_b5orfSG3Kwu"
      },
      "source": [
        ""
      ],
      "execution_count": null,
      "outputs": []
    }
  ]
}